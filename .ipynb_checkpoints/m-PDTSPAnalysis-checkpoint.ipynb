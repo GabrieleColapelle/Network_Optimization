{
 "cells": [
  {
   "cell_type": "markdown",
   "id": "neutral-israeli",
   "metadata": {},
   "source": [
    "### Observation abut capacity of vehicle\n",
    "\n",
    "Let consider the instance of the problem with the graph $ G = (N,A) $ and 3 commodities.\n",
    "\n",
    "When we try to optimize the model with a small capacity, the solver will take a lot of time with respect to a greater one.\n",
    "Also the value of the solution with a vehicle with small capacity will be greater than the value of the solution with a bigger vehicle.\n",
    "\n",
    "Consider the examples above, at first the capacity of vehicle is set to 6 ( we can not decrease this value because is the minimum capacity to keep the model feasible), after is set to 8 and at the end to 10"
   ]
  },
  {
   "cell_type": "markdown",
   "id": "annoying-delay",
   "metadata": {},
   "source": [
    "###### Capacity = 6"
   ]
  },
  {
   "cell_type": "markdown",
   "id": "adapted-istanbul",
   "metadata": {},
   "source": [
    "<img src=\"img/sc1.png\" width=60% height=60% />\n",
    "\n",
    "1119 explored nodes, 83082 simplex iterations in 4.50 seconds -------- solution value = 16178\n",
    "\n",
    "##### Solution tour vs Optimal tour\n",
    "\n",
    "<img src=\"img/tour1.png\" width=70% height=70% />\n",
    "\n",
    "<img src=\"img/optour2.png\" width=70% height=70% />\n",
    "\n",
    "Cost of optimal tour = 12385"
   ]
  },
  {
   "cell_type": "markdown",
   "id": "dying-jewelry",
   "metadata": {},
   "source": [
    "###### Capacity = 8 "
   ]
  },
  {
   "cell_type": "markdown",
   "id": "bottom-corpus",
   "metadata": {},
   "source": [
    "<img src=\"img/sc2.png\" width=70% height=70% />\n",
    "\n",
    "41 explored nodes, 4103 simplex iterations in 1.03 seconds -------- solution value = 1.3843\n",
    "\n",
    "##### Solution tour vs Optimal tour\n",
    "\n",
    "<img src=\"img/sol2.png\" width=70% height=70% />\n",
    "\n",
    "<img src=\"img/optour2.png\" width=70% height=70% />\n",
    "\n",
    "Cost of optimal tour = 12385\n"
   ]
  },
  {
   "cell_type": "markdown",
   "id": "illegal-repair",
   "metadata": {},
   "source": [
    "###### Capacity = 10 "
   ]
  },
  {
   "cell_type": "markdown",
   "id": "stone-equality",
   "metadata": {},
   "source": [
    "<img src=\"img/sc3.png\" width=70% height=70% />\n",
    "\n",
    "1 explored node, 1903 simplex iterations in 0.79 seconds  ---------- solution value = 12912\n",
    "\n",
    "##### Solution tour vs Optimal tour\n",
    "\n",
    "<img src=\"img/sol3.png\" width=70% height=70% />\n",
    "\n",
    "<img src=\"img/optour2.png\" width=70% height=70% />\n",
    "\n",
    "Cost of optimal tour = 12385"
   ]
  },
  {
   "cell_type": "markdown",
   "id": "conventional-decline",
   "metadata": {},
   "source": [
    "##### Explored nodes, simplex iteration and execution time for each model\n",
    "\n",
    "\n",
    "<ul>\n",
    "<li>Capacity = 6</li>\n",
    "    \n",
    "    Explored nodes = 1119, 83082 simplex iteration in 4,50 seconds \n",
    "    \n",
    "    Value of solution --> 16178\n",
    "<li>Capacity = 8</li>\n",
    "    \n",
    "    Explored nodes = 1119, 4103 simplex iteration in 1,03 seconds \n",
    "    \n",
    "    Value of solution --> 13843\n",
    "<li>Capacity = 10</li>\n",
    "    \n",
    "    Explored nodes = 1, 1903 simplex iteration in 0,79 seconds \n",
    "    \n",
    "    Value of solution --> 12912\n",
    "</ul>\n",
    "\n",
    "It's easy to see that the complexity of the model increase a lot when we have a small capacity, on the contrary the complecity decreases when we have a vehicle with large capacity with respect to the requests of customers.\n",
    " "
   ]
  },
  {
   "cell_type": "markdown",
   "id": "upset-radar",
   "metadata": {},
   "source": [
    "### Observations about commodities"
   ]
  },
  {
   "cell_type": "markdown",
   "id": "military-latino",
   "metadata": {},
   "source": [
    "Let consider the instance of the problem with the graph $ G = (N,A) $ and 3, 5, 7, 10  commodities adn let see what happens.\n",
    "In every model the capacity of vehicle is set to the min capacity to keep the model feasible\n"
   ]
  },
  {
   "cell_type": "markdown",
   "id": "stunning-serial",
   "metadata": {},
   "source": [
    "### 3 Commodities and vehicle capacity = 6\n",
    "\n",
    "<img src=\"img/sc1.png\" width=60% height=60% />\n",
    "\n",
    "1119 explored nodes, 83082 simplex iterations in 4.50 seconds -------- solution value = 16178\n",
    "\n",
    "##### Solution tour vs Optimal tour\n",
    "\n",
    "<img src=\"img/tour1.png\" width=70% height=70% />\n",
    "\n",
    "<img src=\"img/optour2.png\" width=70% height=70% />\n",
    "\n",
    "Cost of optimal tour = 12385\n"
   ]
  },
  {
   "cell_type": "markdown",
   "id": "spread-stranger",
   "metadata": {},
   "source": [
    "### 5 Commodities and vehicle capacity = 10\n",
    "\n",
    "\n",
    "<img src=\"img/solut5.png\" width=80% height=80% />\n",
    "\n",
    "130 explored nodes, 15949 simplex iterations in 1.61 seconds -------- solution value = 14492\n",
    "\n",
    "##### Solution tour vs Optimal tour\n",
    "\n",
    "<img src=\"img/sol5png.png\" width=70% height=70% />\n",
    "\n",
    "<img src=\"img/optour2.png\" width=70% height=70% />\n",
    "\n",
    "Cost of optimal tour = 12385"
   ]
  },
  {
   "cell_type": "markdown",
   "id": "collectible-course",
   "metadata": {},
   "source": [
    "### 7 Commodities and vehicle capacity = 14\n",
    "\n",
    "\n",
    "<img src=\"img/solut7.png\" width=80% height=80% />\n",
    "\n",
    "181 explored nodes, 23313 simplex iterations in 2.46 seconds -------- solution value = 14492\n",
    "\n",
    "##### Solution tour vs Optimal tour\n",
    "\n",
    "<img src=\"img/sol7.png\" width=70% height=70% />\n",
    "\n",
    "<img src=\"img/optour2.png\" width=70% height=70% />\n",
    "\n",
    "Cost of optimal tour = 12385"
   ]
  },
  {
   "cell_type": "markdown",
   "id": "spare-hamburg",
   "metadata": {},
   "source": [
    "### 10 Commodities and vehicle capacity = 20\n",
    "\n",
    "\n",
    "<img src=\"img/solut10.png\" width=80% height=80% />\n",
    "\n",
    "99 explored nodes, 17780 simplex iterations in 2.43 seconds -------- solution value = 14492\n",
    "\n",
    "##### Solution tour vs Optimal our\n",
    "\n",
    "<img src=\"img/sol10.png\" width=70% height=70% />\n",
    "\n",
    "<img src=\"img/optour2.png\" width=70% height=70% />\n",
    "\n",
    "Cost of optimal tour = 12385"
   ]
  },
  {
   "cell_type": "markdown",
   "id": "genuine-scout",
   "metadata": {},
   "source": [
    "\n",
    "#### Summary about commodities study\n",
    "\n",
    "|                   | 3 commodities | 5 commodities | 7 commodities | 10 commodities |\n",
    "|-------------------|---------------|---------------|---------------|----------------|\n",
    "| value of solution | 16178         | 14492         | 14492         | 14494          |\n",
    "| explored nodes    | 1119          | 130           | 181           | 99             |\n",
    "| running time      | 4.50s         | 1.61          | 2,46s         | 2,43s          |of \n",
    "\n",
    "\n",
    "Even if the number of commodities increases, the complexity of the model is going to decrease.\n",
    "This happen because the firts 3 commodities are the most requested/supplied by the customers, in this case the complecity is strongly related to the data of the problem ( ho the request/supply are made by customers)"
   ]
  },
  {
   "cell_type": "code",
   "execution_count": null,
   "id": "isolated-assistant",
   "metadata": {},
   "outputs": [],
   "source": []
  }
 ],
 "metadata": {
  "kernelspec": {
   "display_name": "Python 3",
   "language": "python",
   "name": "python3"
  },
  "language_info": {
   "codemirror_mode": {
    "name": "ipython",
    "version": 3
   },
   "file_extension": ".py",
   "mimetype": "text/x-python",
   "name": "python",
   "nbconvert_exporter": "python",
   "pygments_lexer": "ipython3",
   "version": "3.6.13"
  }
 },
 "nbformat": 4,
 "nbformat_minor": 5
}
